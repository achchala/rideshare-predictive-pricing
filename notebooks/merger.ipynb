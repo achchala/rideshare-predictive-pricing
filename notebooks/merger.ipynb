{
 "cells": [
  {
   "cell_type": "code",
   "execution_count": 1,
   "metadata": {},
   "outputs": [
    {
     "name": "stdout",
     "output_type": "stream",
     "text": [
      "Merged notebook saved as uber_predictive_pricing.ipynb\n"
     ]
    }
   ],
   "source": [
    "import nbformat\n",
    "\n",
    "def merge_notebooks(filenames):\n",
    "    merged = None\n",
    "    for fname in filenames:\n",
    "        with open(fname, 'r', encoding='utf-8') as f:\n",
    "            nb = nbformat.read(f, as_version=4)\n",
    "            if merged is None:\n",
    "                merged = nb\n",
    "            else:\n",
    "                merged.cells.extend(nb.cells)\n",
    "    # Example of adding a custom metadata field to indicate the merge\n",
    "    merged.metadata['merged'] = True\n",
    "    return merged\n",
    "\n",
    "# List of notebook filenames to merge\n",
    "notebooks_to_merge = ['final_first_half.ipynb', 'data_modeling.ipynb']\n",
    "\n",
    "# Merge the notebooks\n",
    "merged_notebook = merge_notebooks(notebooks_to_merge)\n",
    "\n",
    "# Write the merged notebook to a new file\n",
    "output_filename = 'uber_predictive_pricing.ipynb'\n",
    "with open(output_filename, 'w', encoding='utf-8') as f:\n",
    "    nbformat.write(merged_notebook, f)\n",
    "\n",
    "print(f\"Merged notebook saved as {output_filename}\")"
   ]
  }
 ],
 "metadata": {
  "kernelspec": {
   "display_name": "msci446",
   "language": "python",
   "name": "python3"
  },
  "language_info": {
   "codemirror_mode": {
    "name": "ipython",
    "version": 3
   },
   "file_extension": ".py",
   "mimetype": "text/x-python",
   "name": "python",
   "nbconvert_exporter": "python",
   "pygments_lexer": "ipython3",
   "version": "3.11.7"
  }
 },
 "nbformat": 4,
 "nbformat_minor": 2
}
