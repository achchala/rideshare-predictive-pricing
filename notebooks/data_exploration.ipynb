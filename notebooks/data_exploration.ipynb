{
 "cells": [
  {
   "cell_type": "markdown",
   "metadata": {},
   "source": [
    "# MSCI446 Final Project\n",
    "### Uber Rideshare Predictive Pricing 🚗\n",
    "\n",
    "*Ella Kennedy, Manjary Muruganandan, Kiranjit Nagra, Aryan Chopra, Achchala Deepan*"
   ]
  },
  {
   "cell_type": "markdown",
   "metadata": {},
   "source": [
    "# Introduction"
   ]
  },
  {
   "cell_type": "markdown",
   "metadata": {},
   "source": [
    "### Business Problem and Motivation\n",
    "The general focus of this project is to create an optimal predictive pricing model for rideshare services, with a goal of enhancing current dynamic pricing strategies. This stems from the observation that traditional pricing models often do not fully account for the plethora of factors influencing ride costs, which can lead to lessened user satisfaction. By leveraging the comprehensive Boston, MA Uber and Lyft Kaggle dataset, our project seeks to incorporate a wider range of variables into the pricing algorithm."
   ]
  },
  {
   "cell_type": "markdown",
   "metadata": {},
   "source": [
    "### Exploratory Data Analysis\n",
    "The first step is to conduct an exploratory data analysis (EDA), to identify trends, patterns, and outliers in the dataset.\n"
   ]
  },
  {
   "cell_type": "code",
   "execution_count": 1,
   "metadata": {},
   "outputs": [],
   "source": [
    "#@title Imports for Project\n",
    "import numpy as np\n",
    "import pandas as pd\n",
    "import matplotlib.pyplot as plt\n",
    "import seaborn as sns"
   ]
  }
 ],
 "metadata": {
  "kernelspec": {
   "display_name": "Python 3",
   "language": "python",
   "name": "python3"
  },
  "language_info": {
   "codemirror_mode": {
    "name": "ipython",
    "version": 3
   },
   "file_extension": ".py",
   "mimetype": "text/x-python",
   "name": "python",
   "nbconvert_exporter": "python",
   "pygments_lexer": "ipython3",
   "version": "3.11.3"
  }
 },
 "nbformat": 4,
 "nbformat_minor": 2
}
