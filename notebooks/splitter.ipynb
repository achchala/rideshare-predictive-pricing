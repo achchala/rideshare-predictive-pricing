{
 "cells": [
  {
   "cell_type": "code",
   "execution_count": 2,
   "metadata": {},
   "outputs": [],
   "source": [
    "import nbformat\n",
    "\n",
    "# Load the notebook\n",
    "with open('uber_predictive_pricing.ipynb', 'r', encoding='utf-8') as f:\n",
    "    nb = nbformat.read(f, as_version=4)\n",
    "\n",
    "# Create two new notebooks\n",
    "nb1 = nbformat.v4.new_notebook()\n",
    "nb2 = nbformat.v4.new_notebook()\n",
    "\n",
    "# This is where we'll start writing to the second notebook\n",
    "write_to_nb2 = False\n",
    "\n",
    "# Iterate through each cell in the original notebook\n",
    "for cell in nb.cells:\n",
    "    if not write_to_nb2:\n",
    "        # Copy cells to the first notebook until the split point\n",
    "        nb1.cells.append(cell)\n",
    "        if cell.cell_type == 'markdown' and 'Test/Training Split' in cell.source:\n",
    "            # When the split point is reached, start writing to the second notebook\n",
    "            write_to_nb2 = True\n",
    "    else:\n",
    "        # Copy the remaining cells to the second notebook\n",
    "        nb2.cells.append(cell)\n",
    "\n",
    "# Save the notebooks\n",
    "with open('notebook_part1.ipynb', 'w', encoding='utf-8') as f:\n",
    "    nbformat.write(nb1, f)\n",
    "\n",
    "with open('notebook_part2.ipynb', 'w', encoding='utf-8') as f:\n",
    "    nbformat.write(nb2, f)"
   ]
  }
 ],
 "metadata": {
  "kernelspec": {
   "display_name": "msci446",
   "language": "python",
   "name": "python3"
  },
  "language_info": {
   "codemirror_mode": {
    "name": "ipython",
    "version": 3
   },
   "file_extension": ".py",
   "mimetype": "text/x-python",
   "name": "python",
   "nbconvert_exporter": "python",
   "pygments_lexer": "ipython3",
   "version": "3.11.7"
  }
 },
 "nbformat": 4,
 "nbformat_minor": 2
}
