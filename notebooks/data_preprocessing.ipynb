{
 "cells": [
  {
   "cell_type": "markdown",
   "metadata": {},
   "source": [
    "# Data Preprocessing"
   ]
  },
  {
   "cell_type": "markdown",
   "metadata": {},
   "source": [
    "The next step is to"
   ]
  },
  {
   "cell_type": "code",
   "execution_count": 1,
   "metadata": {},
   "outputs": [],
   "source": [
    "#@title Imports for Project\n",
    "import numpy as np\n",
    "import pandas as pd\n",
    "import matplotlib.pyplot as plt\n",
    "import seaborn as sns"
   ]
  },
  {
   "cell_type": "code",
   "execution_count": 2,
   "metadata": {},
   "outputs": [
    {
     "ename": "",
     "evalue": "",
     "output_type": "error",
     "traceback": [
      "\u001b[1;31mCannot execute code, session has been disposed. Please try restarting the Kernel."
     ]
    },
    {
     "ename": "",
     "evalue": "",
     "output_type": "error",
     "traceback": [
      "\u001b[1;31mThe Kernel crashed while executing code in the the current cell or a previous cell. Please review the code in the cell(s) to identify a possible cause of the failure. Click <a href='https://aka.ms/vscodeJupyterKernelCrash'>here</a> for more info. View Jupyter <a href='command:jupyter.viewOutput'>log</a> for further details."
     ]
    }
   ],
   "source": [
    "df = pd.read_csv('../data/rideshare_kaggle.csv')\n",
    "df.head()"
   ]
  },
  {
   "cell_type": "markdown",
   "metadata": {},
   "source": [
    "Data Cleaning"
   ]
  },
  {
   "cell_type": "code",
   "execution_count": 5,
   "metadata": {},
   "outputs": [
    {
     "data": {
      "text/plain": [
       "id                                 0\n",
       "timestamp                          0\n",
       "hour                               0\n",
       "day                                0\n",
       "month                              0\n",
       "datetime                           0\n",
       "timezone                           0\n",
       "source                             0\n",
       "destination                        0\n",
       "cab_type                           0\n",
       "product_id                         0\n",
       "name                               0\n",
       "price                          55095\n",
       "distance                           0\n",
       "surge_multiplier                   0\n",
       "latitude                           0\n",
       "longitude                          0\n",
       "temperature                        0\n",
       "apparentTemperature                0\n",
       "short_summary                      0\n",
       "long_summary                       0\n",
       "precipIntensity                    0\n",
       "precipProbability                  0\n",
       "humidity                           0\n",
       "windSpeed                          0\n",
       "windGust                           0\n",
       "windGustTime                       0\n",
       "visibility                         0\n",
       "temperatureHigh                    0\n",
       "temperatureHighTime                0\n",
       "temperatureLow                     0\n",
       "temperatureLowTime                 0\n",
       "apparentTemperatureHigh            0\n",
       "apparentTemperatureHighTime        0\n",
       "apparentTemperatureLow             0\n",
       "apparentTemperatureLowTime         0\n",
       "icon                               0\n",
       "dewPoint                           0\n",
       "pressure                           0\n",
       "windBearing                        0\n",
       "cloudCover                         0\n",
       "uvIndex                            0\n",
       "visibility.1                       0\n",
       "ozone                              0\n",
       "sunriseTime                        0\n",
       "sunsetTime                         0\n",
       "moonPhase                          0\n",
       "precipIntensityMax                 0\n",
       "uvIndexTime                        0\n",
       "temperatureMin                     0\n",
       "temperatureMinTime                 0\n",
       "temperatureMax                     0\n",
       "temperatureMaxTime                 0\n",
       "apparentTemperatureMin             0\n",
       "apparentTemperatureMinTime         0\n",
       "apparentTemperatureMax             0\n",
       "apparentTemperatureMaxTime         0\n",
       "dtype: int64"
      ]
     },
     "execution_count": 5,
     "metadata": {},
     "output_type": "execute_result"
    }
   ],
   "source": [
    "#Identify number of null values per column in the database\n",
    "df.isna().sum()"
   ]
  },
  {
   "cell_type": "code",
   "execution_count": 6,
   "metadata": {},
   "outputs": [],
   "source": [
    "#Drop rows that have a null value in the price column\n",
    "df = df[df['price'].notna()]"
   ]
  },
  {
   "cell_type": "code",
   "execution_count": null,
   "metadata": {},
   "outputs": [],
   "source": [
    "#Remove duplicates in the ID column\n",
    "df = df.drop_duplicates('id')"
   ]
  },
  {
   "cell_type": "code",
   "execution_count": 11,
   "metadata": {},
   "outputs": [
    {
     "name": "stdout",
     "output_type": "stream",
     "text": [
      "0\n"
     ]
    }
   ],
   "source": [
    "# Check for duplicate rows\n",
    "duplicates = df.duplicated()\n",
    "duplicates_num = duplicates.sum()\n",
    "\n",
    "print(duplicates_num)"
   ]
  },
  {
   "cell_type": "code",
   "execution_count": null,
   "metadata": {},
   "outputs": [],
   "source": [
    "# Removing outliers in the price, ..."
   ]
  },
  {
   "cell_type": "code",
   "execution_count": 12,
   "metadata": {},
   "outputs": [],
   "source": [
    "# Reduce data to only contain longitude between -180 and 180, and latitude between -90 and 90\n",
    "df = df[(df['longitude'] > -180) & (df['longitude'] < 180)]\n",
    "df = df[(df['latitude'] > -90) & (df['latitude'] < 90)]"
   ]
  },
  {
   "cell_type": "code",
   "execution_count": 1,
   "metadata": {},
   "outputs": [
    {
     "ename": "NameError",
     "evalue": "name 'pd' is not defined",
     "output_type": "error",
     "traceback": [
      "\u001b[0;31m---------------------------------------------------------------------------\u001b[0m",
      "\u001b[0;31mNameError\u001b[0m                                 Traceback (most recent call last)",
      "\u001b[1;32m/workspaces/rideshare-predictive-pricing/notebooks/data_preprocessing.ipynb Cell 12\u001b[0m line \u001b[0;36m3\n\u001b[1;32m      <a href='vscode-notebook-cell://codespaces%2Bsupreme-train-6q7xgx4pwq5hx4q5/workspaces/rideshare-predictive-pricing/notebooks/data_preprocessing.ipynb#X14sdnNjb2RlLXJlbW90ZQ%3D%3D?line=0'>1</a>\u001b[0m \u001b[39m# Separate the Datetime column into time, year, month and day\u001b[39;00m\n\u001b[0;32m----> <a href='vscode-notebook-cell://codespaces%2Bsupreme-train-6q7xgx4pwq5hx4q5/workspaces/rideshare-predictive-pricing/notebooks/data_preprocessing.ipynb#X14sdnNjb2RlLXJlbW90ZQ%3D%3D?line=2'>3</a>\u001b[0m df[\u001b[39m'\u001b[39m\u001b[39mdatetime\u001b[39m\u001b[39m'\u001b[39m] \u001b[39m=\u001b[39m pd\u001b[39m.\u001b[39mto_datetime(df[\u001b[39m'\u001b[39m\u001b[39mdatetime\u001b[39m\u001b[39m'\u001b[39m])\n\u001b[1;32m      <a href='vscode-notebook-cell://codespaces%2Bsupreme-train-6q7xgx4pwq5hx4q5/workspaces/rideshare-predictive-pricing/notebooks/data_preprocessing.ipynb#X14sdnNjb2RlLXJlbW90ZQ%3D%3D?line=4'>5</a>\u001b[0m df[\u001b[39m'\u001b[39m\u001b[39mtime\u001b[39m\u001b[39m'\u001b[39m] \u001b[39m=\u001b[39m df[\u001b[39m'\u001b[39m\u001b[39mdatetime\u001b[39m\u001b[39m'\u001b[39m]\u001b[39m.\u001b[39mdt\u001b[39m.\u001b[39mstrftime(\u001b[39m'\u001b[39m\u001b[39m%\u001b[39m\u001b[39mH:\u001b[39m\u001b[39m%\u001b[39m\u001b[39mM\u001b[39m\u001b[39m'\u001b[39m)\n\u001b[1;32m      <a href='vscode-notebook-cell://codespaces%2Bsupreme-train-6q7xgx4pwq5hx4q5/workspaces/rideshare-predictive-pricing/notebooks/data_preprocessing.ipynb#X14sdnNjb2RlLXJlbW90ZQ%3D%3D?line=5'>6</a>\u001b[0m df[\u001b[39m'\u001b[39m\u001b[39myear\u001b[39m\u001b[39m'\u001b[39m] \u001b[39m=\u001b[39m df[\u001b[39m'\u001b[39m\u001b[39mdatetime\u001b[39m\u001b[39m'\u001b[39m]\u001b[39m.\u001b[39mdt\u001b[39m.\u001b[39myear\n",
      "\u001b[0;31mNameError\u001b[0m: name 'pd' is not defined"
     ]
    }
   ],
   "source": [
    "# Separate the Datetime column into time, year, month, date and day of the week\n",
    "\n",
    "df['datetime'] = pd.to_datetime(df['datetime'])\n",
    "\n",
    "df['time'] = df['datetime'].dt.strftime('%H:%M')\n",
    "df['year'] = df['datetime'].dt.year\n",
    "df['month'] = df['datetime'].dt.strftime('%B')\n",
    "df['day'] = df['datetime'].dt.day\n",
    "df['day_of_week'] = df['datetime'].dt.dayofweek \n",
    "\n",
    "day_names = {0: 'Monday', 1: 'Tuesday', 2: 'Wednesday', 3: 'Thursday', 4: 'Friday', 5: 'Saturday', 6: 'Sunday'}\n",
    "df['day_of_week'] = df['day_of_week'].map(day_names)\n",
    "\n",
    "df.head()"
   ]
  }
 ],
 "metadata": {
  "kernelspec": {
   "display_name": "Python 3",
   "language": "python",
   "name": "python3"
  },
  "language_info": {
   "codemirror_mode": {
    "name": "ipython",
    "version": 3
   },
   "file_extension": ".py",
   "mimetype": "text/x-python",
   "name": "python",
   "nbconvert_exporter": "python",
   "pygments_lexer": "ipython3",
   "version": "3.10.13"
  }
 },
 "nbformat": 4,
 "nbformat_minor": 2
}
